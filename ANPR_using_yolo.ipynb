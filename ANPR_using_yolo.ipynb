{
 "cells": [
  {
   "cell_type": "code",
   "execution_count": 1,
   "id": "8de92351",
   "metadata": {},
   "outputs": [
    {
     "name": "stdout",
     "output_type": "stream",
     "text": [
      "Looking for C:\\Users\\ASUS\\.keras-ocr\\craft_mlt_25k.h5\n",
      "Looking for C:\\Users\\ASUS\\.keras-ocr\\crnn_kurapan.h5\n"
     ]
    }
   ],
   "source": [
    "import os\n",
    "import cv2\n",
    "import numpy as np\n",
    "import pandas as pd\n",
    "import tensorflow as tf\n",
    "import plotly.express as px\n",
    "import matplotlib.pyplot as plt\n",
    "import xml.etree.ElementTree as xet\n",
    "import keras_ocr\n",
    "from glob import glob\n",
    "from skimage import io\n",
    "from shutil import copy\n",
    "from tensorflow.keras.models import Model\n",
    "from tensorflow.keras.callbacks import TensorBoard\n",
    "from sklearn.model_selection import train_test_split\n",
    "from tensorflow.keras.applications import InceptionResNetV2\n",
    "from tensorflow.keras.layers import Dense, Dropout, Flatten, Input\n",
    "from tensorflow.keras.preprocessing.image import load_img, img_to_array\n",
    "net = cv2.dnn.readNetFromONNX('./yolov5/runs/train/Model/weights/best.onnx')\n",
    "net.setPreferableBackend(cv2.dnn.DNN_BACKEND_OPENCV)\n",
    "net.setPreferableTarget(cv2.dnn.DNN_TARGET_CPU)\n",
    "pipeline = keras_ocr.pipeline.Pipeline()\n",
    "def get_detections(img,net):\n",
    "    # 1.CONVERT IMAGE TO YOLO FORMAT\n",
    "    image = img.copy()\n",
    "    row, col, d = image.shape\n",
    "\n",
    "    max_rc = max(row,col)\n",
    "    input_image = np.zeros((max_rc,max_rc,3),dtype=np.uint8)\n",
    "    input_image[0:row,0:col] = image\n",
    "\n",
    "    # 2. GET PREDICTION FROM YOLO MODEL\n",
    "    blob = cv2.dnn.blobFromImage(input_image,1/255,(INPUT_WIDTH,INPUT_HEIGHT),swapRB=True,crop=False)\n",
    "    net.setInput(blob)\n",
    "    preds = net.forward()\n",
    "    detections = preds[0]\n",
    "    \n",
    "    return input_image, detections\n",
    "def extract_text(image,bbox):\n",
    "    x,y,w,h = bbox\n",
    "    roi = image[y:y+h, x:x+w]\n",
    "    images = [roi]    \n",
    "    prediction_groups = pipeline.recognize(images)\n",
    "    detected_text=\"\"\n",
    "    for i in prediction_groups:\n",
    "        for text,box in i:\n",
    "            detected_text+=text\n",
    "    \n",
    "    return detected_text\n",
    "def non_maximum_supression(input_image,detections):\n",
    "    \n",
    "    # 3. FILTER DETECTIONS BASED ON CONFIDENCE AND PROBABILIY SCORE\n",
    "    \n",
    "    # center x, center y, w , h, conf, proba\n",
    "    boxes = []\n",
    "    confidences = []\n",
    "\n",
    "    image_w, image_h = input_image.shape[:2]\n",
    "    x_factor = image_w/INPUT_WIDTH\n",
    "    y_factor = image_h/INPUT_HEIGHT\n",
    "\n",
    "    for i in range(len(detections)):\n",
    "        row = detections[i]\n",
    "        confidence = row[4] # confidence of detecting license plate\n",
    "        if confidence > 0.4:\n",
    "            class_score = row[5] # probability score of license plate\n",
    "            if class_score > 0.25:\n",
    "                cx, cy , w, h = row[0:4]\n",
    "\n",
    "                left = int((cx - 0.5*w)*x_factor)\n",
    "                top = int((cy-0.5*h)*y_factor)\n",
    "                width = int(w*x_factor)\n",
    "                height = int(h*y_factor)\n",
    "                box = np.array([left,top,width,height])\n",
    "\n",
    "                confidences.append(confidence)\n",
    "                boxes.append(box)\n",
    "\n",
    "    # 4.1 CLEAN\n",
    "    boxes_np = np.array(boxes).tolist()\n",
    "    confidences_np = np.array(confidences).tolist()\n",
    "    \n",
    "    # 4.2 NMS\n",
    "    index = cv2.dnn.NMSBoxes(boxes_np,confidences_np,0.25,0.45)\n",
    "    \n",
    "    return boxes_np, confidences_np, index\n",
    "\n",
    "def drawings(image,boxes_np,confidences_np,index):\n",
    "    # 5. Drawings\n",
    "    texts = []\n",
    "    for ind in index:\n",
    "        x,y,w,h =  boxes_np[ind]\n",
    "        bb_conf = confidences_np[ind]\n",
    "        conf_text = 'plate: {:.0f}%'.format(bb_conf*100)\n",
    "        license_text = extract_text2(image,boxes_np[ind])\n",
    "        texts.append(license_text)\n",
    "\n",
    "\n",
    "        cv2.rectangle(image,(x,y),(x+w,y+h),(255,0,255),2)\n",
    "        cv2.rectangle(image,(x,y-30),(x+w,y),(255,0,255),-1)\n",
    "        cv2.rectangle(image,(x,y+h),(x+w,y+h+25),(0,0,0),-1)\n",
    "\n",
    "\n",
    "        cv2.putText(image,conf_text,(x,y-10),cv2.FONT_HERSHEY_SIMPLEX,0.7,(255,255,255),1)\n",
    "        cv2.putText(image,license_text,(x,y+h+27),cv2.FONT_HERSHEY_SIMPLEX,0.7,(0,255,0),1)\n",
    "\n",
    "    return image, texts\n",
    "def yolo_predictions(img,net):\n",
    "    # step-1: detections\n",
    "    input_image, detections = get_detections(img,net)\n",
    "    # step-2: NMS\n",
    "    boxes_np, confidences_np, index = non_maximum_supression(input_image, detections)\n",
    "    # step-3: Drawings\n",
    "    result_img, texts = drawings(img,boxes_np,confidences_np,index)\n",
    "    return result_img, texts\n",
    "def extract_text(image,bbox):\n",
    "    x,y,w,h = bbox\n",
    "    roi = image[y:y+h, x:x+w]\n",
    "    images = [roi]    \n",
    "    prediction_groups = pipeline.recognize(images)\n",
    "    detected_text=\"\"\n",
    "    for i in prediction_groups:\n",
    "        for text,box in i:\n",
    "            detected_text+=text\n",
    "    \n",
    "    return detected_text\n"
   ]
  },
  {
   "cell_type": "code",
   "execution_count": 2,
   "id": "dbd7b2a6",
   "metadata": {},
   "outputs": [
    {
     "name": "stderr",
     "output_type": "stream",
     "text": [
      "CUDA not available - defaulting to CPU. Note: This module is much faster with a GPU.\n"
     ]
    }
   ],
   "source": [
    "import easyocr\n",
    "# initialize the EasyOCR reader\n",
    "reader = easyocr.Reader(['en'])\n",
    "\n",
    "def extract_text2(image,bbox):\n",
    "    x,y,w,h = bbox\n",
    "    roi = image[y:y+h, x:x+w]    \n",
    "    if 0 in roi.shape:\n",
    "        return 'no number'\n",
    "    else:\n",
    "        # extract text using EasyOCR\n",
    "        result = reader.readtext(roi)\n",
    "        text = ' '.join([res[1] for res in result])\n",
    "        text = text.strip()\n",
    "        \n",
    "    return text"
   ]
  },
  {
   "cell_type": "code",
   "execution_count": 3,
   "id": "2cbc33d7",
   "metadata": {},
   "outputs": [],
   "source": [
    "INPUT_WIDTH =  640\n",
    "INPUT_HEIGHT = 640"
   ]
  },
  {
   "cell_type": "code",
   "execution_count": 4,
   "id": "56b8dff5",
   "metadata": {},
   "outputs": [
    {
     "name": "stderr",
     "output_type": "stream",
     "text": [
      "C:\\Users\\ASUS\\anaconda3\\lib\\site-packages\\gradio\\inputs.py:256: UserWarning: Usage of gradio.inputs is deprecated, and will not be supported in the future, please import your component from gradio.components\n",
      "  warnings.warn(\n",
      "C:\\Users\\ASUS\\anaconda3\\lib\\site-packages\\gradio\\deprecation.py:40: UserWarning: `optional` parameter is deprecated, and it has no effect\n",
      "  warnings.warn(value)\n",
      "C:\\Users\\ASUS\\anaconda3\\lib\\site-packages\\gradio\\outputs.py:21: UserWarning: Usage of gradio.outputs is deprecated, and will not be supported in the future, please import your components from gradio.components\n",
      "  warnings.warn(\n"
     ]
    },
    {
     "name": "stdout",
     "output_type": "stream",
     "text": [
      "IMPORTANT: You are using gradio version 3.11.0, however version 3.14.0 is available, please upgrade.\n",
      "--------\n",
      "Running on local URL:  http://127.0.0.1:7860\n",
      "\n",
      "To create a public link, set `share=True` in `launch()`.\n"
     ]
    },
    {
     "data": {
      "text/html": [
       "<div><iframe src=\"http://127.0.0.1:7860/\" width=\"100%\" height=\"500\" allow=\"autoplay; camera; microphone; clipboard-read; clipboard-write;\" frameborder=\"0\" allowfullscreen></iframe></div>"
      ],
      "text/plain": [
       "<IPython.core.display.HTML object>"
      ]
     },
     "metadata": {},
     "output_type": "display_data"
    },
    {
     "data": {
      "text/plain": []
     },
     "execution_count": 4,
     "metadata": {},
     "output_type": "execute_result"
    },
    {
     "name": "stdout",
     "output_type": "stream",
     "text": [
      "123\n"
     ]
    }
   ],
   "source": [
    "import gradio as gr\n",
    "\n",
    "def process_image(image):\n",
    "    # Process the uploaded image\n",
    "    # Perform your desired operations on the image\n",
    "    # Here, we assume that the processed result is a string\n",
    "    print(123)\n",
    "    results, texts = yolo_predictions(image, net)   \n",
    "\n",
    "    return texts\n",
    "\n",
    "# Create the input component for uploading an image\n",
    "image_input = gr.inputs.Image(type=\"numpy\", label=\"Upload Image\")\n",
    "\n",
    "# Create the output component for displaying the processed result as text\n",
    "text_output = gr.outputs.Textbox(label=\"Processed Result\")\n",
    "\n",
    "# Create a Gradio interface\n",
    "gr.Interface(fn=process_image, inputs=image_input, outputs=text_output, title=\"Image Uploader\").launch()\n",
    "#gr.Interface(fn=process_image, inputs=image_input, outputs=text_output, title=\"Image Uploader\").launch()\n"
   ]
  },
  {
   "cell_type": "code",
   "execution_count": null,
   "id": "ce41599d",
   "metadata": {},
   "outputs": [],
   "source": []
  }
 ],
 "metadata": {
  "kernelspec": {
   "display_name": "Python 3 (ipykernel)",
   "language": "python",
   "name": "python3"
  },
  "language_info": {
   "codemirror_mode": {
    "name": "ipython",
    "version": 3
   },
   "file_extension": ".py",
   "mimetype": "text/x-python",
   "name": "python",
   "nbconvert_exporter": "python",
   "pygments_lexer": "ipython3",
   "version": "3.9.7"
  }
 },
 "nbformat": 4,
 "nbformat_minor": 5
}
